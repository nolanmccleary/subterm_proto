{
 "cells": [
  {
   "cell_type": "code",
   "execution_count": null,
   "metadata": {},
   "outputs": [],
   "source": [
    "from jupyterplot import ProgressPlot\n",
    "from preprocessor import Preprocessor, Source_Handler\n",
    "import threading\n",
    "\n",
    "\n",
    "audio_source = Source_Handler()\n",
    "audio_preprocessor = Preprocessor(audio_source)\n",
    "\n",
    "\n",
    "continue_recording = True\n",
    "\n",
    "\n",
    "def stop():\n",
    "    input(\"Press Enter to stop the recording:\")\n",
    "    global continue_recording\n",
    "    continue_recording = False\n",
    "\n",
    "\n",
    "\n",
    "def start_recording():\n",
    "    data = []\n",
    "    confidences = []\n",
    "\n",
    "    pp = ProgressPlot(plot_names=[\"Silero VAD\"],line_names=[\"speech probabilities\"], x_label=\"audio chunks\")\n",
    "\n",
    "    stop_listener = threading.Thread(target=stop)\n",
    "    stop_listener.start()\n",
    "\n",
    "    while continue_recording:\n",
    "        audio_data = audio_preprocessor.process_chunk()\n",
    "        data.append(audio_data[0])\n",
    "        confidences.append(audio_data[1])\n",
    "\n",
    "        pp.update(audio_data[1])\n",
    "\n",
    "\n",
    "    pp.finalize()\n",
    "\n",
    "\n",
    "start_recording()\n",
    "\n",
    "\n"
   ]
  }
 ],
 "metadata": {
  "language_info": {
   "name": "python"
  }
 },
 "nbformat": 4,
 "nbformat_minor": 2
}
